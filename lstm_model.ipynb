{
 "cells": [
  {
   "cell_type": "code",
   "execution_count": 1,
   "metadata": {
    "collapsed": false
   },
   "outputs": [],
   "source": [
    "import torch \n",
    "import torch.autograd as autograd\n",
    "import numpy as np \n",
    "import torch.nn as nn\n",
    "from load_data import *\n",
    "from torch.autograd import Variable\n",
    "import torch.nn.functional as F\n",
    "import torch.optim as optim\n"
   ]
  },
  {
   "cell_type": "code",
   "execution_count": 2,
   "metadata": {
    "collapsed": false
   },
   "outputs": [
    {
     "name": "stdout",
     "output_type": "stream",
     "text": [
      "Loading batch dicts\n"
     ]
    }
   ],
   "source": [
    "## Loading data \n",
    "\n",
    "embedding_dict = load_embedding_dict()\n",
    "sentence_Y_dict = load_sentence_Y_dict()\n",
    "\n",
    "print \"Loading batch dicts\"\n",
    "train_batch_dict_new = load_train_data()\n",
    "validation_batch_dict_new = load_validation_data()\n"
   ]
  },
  {
   "cell_type": "code",
   "execution_count": 3,
   "metadata": {
    "collapsed": true
   },
   "outputs": [],
   "source": [
    "corpus_word_vocab = load_corpus_vocab()"
   ]
  },
  {
   "cell_type": "code",
   "execution_count": 4,
   "metadata": {
    "collapsed": true
   },
   "outputs": [],
   "source": [
    "vocab_size = len(corpus_word_vocab)\n",
    "embedding_dim = 300\n",
    "hidden_dim = 100\n",
    "batch_size = 64 \n",
    "n_classes = 5"
   ]
  },
  {
   "cell_type": "code",
   "execution_count": 5,
   "metadata": {
    "collapsed": false
   },
   "outputs": [],
   "source": [
    "embedding_lookup  = nn.Embedding(vocab_size,embedding_dim,padding_idx = 0)"
   ]
  },
  {
   "cell_type": "code",
   "execution_count": 6,
   "metadata": {
    "collapsed": false
   },
   "outputs": [],
   "source": [
    "bilstm = nn.LSTM(embedding_dim,hidden_dim, bidirectional = True)\n",
    "linear_layer = nn.Linear(2*hidden_dim,n_classes)\n"
   ]
  },
  {
   "cell_type": "code",
   "execution_count": 12,
   "metadata": {
    "collapsed": false
   },
   "outputs": [],
   "source": [
    "class BiLSTM(nn.Module) :\n",
    "    \n",
    "    def __init__(self,embedding_dim,hidden_dim,vocab_size,n_classes) :\n",
    "        \n",
    "        super(BiLSTM,self).__init__()\n",
    "        self.embedding_dim = embedding_dim \n",
    "        self.hidden_dim = hidden_dim \n",
    "        self.vocab_size = vocab_size\n",
    "        self.n_classes = n_classes\n",
    "        \n",
    "        self.embedding_lookup = nn.Embedding(vocab_size,embedding_dim,padding_idx = 0)\n",
    "        self.bilstm = nn.LSTM(embedding_dim,hidden_dim, bidirectional = True)\n",
    "        self.linear_layer = nn.Linear(2*hidden_dim,n_classes)\n",
    "        self.hidden = self.init_hidden(hidden_dim)\n",
    "        \n",
    "        \n",
    "    def forward(self,sentence,embedding_dict,s_id) :\n",
    "        \n",
    "        embeds = self.embedding_lookup(sentence)\n",
    "       \n",
    "        #print \"embedding dimension\",embeds.view(len(embedding_dict[s_id]),1,embedding_dim).size()\n",
    "\n",
    "        lstm_out, self.hidden = self.bilstm(embeds.view(len(embedding_dict[s_id]),1,embedding_dim),self.hidden)\n",
    "        lstm_out = lstm_out.view(len(embedding_dict[s_id]),2*hidden_dim)\n",
    "\n",
    "        output_vec = self.linear_layer(lstm_out)\n",
    "\n",
    "        return output_vec\n",
    "    def init_hidden(self,hidden_dim) :\n",
    "        return (Variable(torch.randn(2,1,hidden_dim)),Variable(torch.randn(2,1,hidden_dim)))\n",
    "        \n",
    "        "
   ]
  },
  {
   "cell_type": "code",
   "execution_count": null,
   "metadata": {
    "collapsed": true
   },
   "outputs": [],
   "source": []
  },
  {
   "cell_type": "code",
   "execution_count": 7,
   "metadata": {
    "collapsed": false
   },
   "outputs": [],
   "source": [
    "def convert_to_onehot(batch_labels) :\n",
    "\n",
    "\n",
    "\t### Label -1 assigned to the pad values and before input and mapped  to [0 0 0 0 0]\n",
    "\toutput_mat = []\n",
    "\tfor sent_labels in batch_labels :\n",
    "\t\ttemp_mat = []\t\n",
    "\t\tfor word_label in sent_labels :\n",
    "\t\t\tif word_label == -1:\n",
    "\n",
    "\t\t\t\ttemp = [0]*5\n",
    "\t\t\t\ttemp_mat.append(temp)\n",
    "\t\t\t\tcontinue\n",
    "\t\t\ttemp = [0]*5\n",
    "\t\t\ttemp[word_label] = 1\n",
    "\t\t\ttemp_mat.append(temp)\n",
    "\n",
    "\t\toutput_mat.append(temp_mat)\n",
    "\n",
    "\treturn np.asarray(output_mat)\n",
    "\n",
    "def pad_zeros(ids,embedding_dict) :\n",
    "\t## return a numpy array of all the sentences in the batch padded with zeros for their embeddings \n",
    "\n",
    "\tmax_len = 0 \n",
    "\tfor sent_id in ids :\n",
    "\t\tembedding = embedding_dict[sent_id]\n",
    "\t\tif len(embedding) > max_len :\n",
    "\t\t\tmax_len = len(embedding)\n",
    "\n",
    "\t#print \"max_len\", max_len\n",
    "\n",
    "\n",
    "\tsent_mat = [embedding_dict[sent_id] for sent_id in ids]\n",
    "\n",
    "\tif len(np.array(sent_mat).shape) == 1 :\n",
    "\t\t\treturn np.array([xi + [0]*(max_len - len(xi)) for xi in sent_mat],dtype='int'),max_len\n",
    "\n",
    "\telse :\n",
    "\n",
    "\t\tpadded_mat = np.zeros((len(ids),max_len),dtype='int')\n",
    "\n",
    "\t\tsent_mat = np.array(sent_mat,dtype= 'int')\n",
    "\t\tfor i in xrange(len(ids)) :\n",
    "\t \t\tpadded_mat[i,:] = np.pad(sent_mat[i,:],(0,max_len - sent_mat[i,:].shape[0]),'constant',constant_values = (0))\n",
    "\n",
    "\n",
    "\t\treturn padded_mat,max_len\n",
    "\n",
    "def test_on_validation_data(model,sentence_Y_dict, validation_batch_dict_new,embedding_dict,use_whole = False) :\n",
    "\n",
    "\tbatch_count = 0 \n",
    "\tvalidation_loss = 0 \n",
    "\tacc  = 0 \n",
    "\tfor batch_n,sent_ids in validation_batch_dict_new.iteritems() :\n",
    "\n",
    "\t\tvList = []\n",
    "\t\tbatch_count +=1 \n",
    "\n",
    "\t\tsents , max_len = pad_zeros(sent_ids,embedding_dict)\n",
    "\n",
    "\t\tlabels = [sentence_Y_dict[item]+[-1]*(max_len - len(sentence_Y_dict[item])) for item in sent_ids] \n",
    "\t\t\t\t\n",
    "\t\tlabels = convert_to_onehot(labels)\n",
    "\n",
    "\t\tvList = model.test_on_batch(sents,labels)\n",
    "\t\tvalidation_loss+= vList[0]\n",
    "\t\tacc+=vList[1]\n",
    "\n",
    "\t\tif batch_count == 30 and use_whole == False :\n",
    "\t\t\tbreak \n",
    "\n",
    "\n",
    "\tprint \"validation_loss :\",validation_loss/batch_count\n",
    "\tacc = acc/batch_count \n",
    "\tprint \"Accuracy :\",acc\n",
    "\treturn [validation_loss/batch_count,acc]\n"
   ]
  },
  {
   "cell_type": "code",
   "execution_count": 28,
   "metadata": {
    "collapsed": false
   },
   "outputs": [
    {
     "name": "stdout",
     "output_type": "stream",
     "text": [
      "Variable containing:\n",
      " 1.5908\n",
      "[torch.FloatTensor of size 1]\n",
      "\n",
      "Variable containing:\n",
      " 1.5291\n",
      "[torch.FloatTensor of size 1]\n",
      "\n",
      "Variable containing:\n",
      " 1.4914\n",
      "[torch.FloatTensor of size 1]\n",
      "\n",
      "Variable containing:\n",
      " 1.4479\n",
      "[torch.FloatTensor of size 1]\n",
      "\n",
      "Variable containing:\n",
      " 1.4303\n",
      "[torch.FloatTensor of size 1]\n",
      "\n",
      "Variable containing:\n",
      " 1.3929\n",
      "[torch.FloatTensor of size 1]\n",
      "\n",
      "Variable containing:\n",
      " 1.3493\n",
      "[torch.FloatTensor of size 1]\n",
      "\n",
      "Variable containing:\n",
      " 1.3313\n",
      "[torch.FloatTensor of size 1]\n",
      "\n",
      "Variable containing:\n",
      " 1.2973\n",
      "[torch.FloatTensor of size 1]\n",
      "\n",
      "Variable containing:\n",
      " 1.2944\n",
      "[torch.FloatTensor of size 1]\n",
      "\n"
     ]
    }
   ],
   "source": [
    "## Preparing data for input \n",
    "epochs = 1\n",
    "loss_function = nn.CrossEntropyLoss()\n",
    "## Going over each sentence at a time \n",
    "\n",
    "batch_size = 64\n",
    "\n",
    "model = BiLSTM(embedding_dim,hidden_dim,vocab_size,n_classes)\n",
    "optimizer = torch.optim.RMSprop(model.parameters(),lr = 0.0001)\n",
    "def intialise_hidden(hidden_dim) :\n",
    "    \n",
    "    return (Variable(torch.randn(2,1,hidden_dim)),Variable(torch.randn(2,1,hidden_dim)))\n",
    "\n",
    "for i in range(epochs) :\n",
    "    batch_count = 0\n",
    "    \n",
    "    for batch,sent_ids in train_batch_dict_new.iteritems() :\n",
    "        batch_count+= 1\n",
    "        s_count = 0 \n",
    "        \n",
    "        sent_loss = Variable(torch.FloatTensor(len(sent_ids))) ## len(sent_ids)\n",
    "        for s_id in sent_ids :\n",
    "            \n",
    "            model.zero_grad()\n",
    "            #hidden = intialise_hidden(hidden_dim)\n",
    "            \n",
    "            model.hidden = model.init_hidden(hidden_dim)\n",
    "            \n",
    "            sentence = Variable(torch.LongTensor(embedding_dict[s_id]))\n",
    "            labels = sentence_Y_dict[s_id]\n",
    "\n",
    "            targets = Variable(torch.LongTensor(labels))\n",
    "            #print \"target_size\", targets.size()\n",
    "            \n",
    "            output_vec = model.forward(sentence,embedding_dict,s_id)\n",
    "            \"\"\"embeds = embedding_lookup(sentence)\n",
    "       \n",
    "            #print \"embedding dimension\",embeds.view(len(embedding_dict[s_id]),1,embedding_dim).size()\n",
    "        \n",
    "            lstm_out, hidden = bilstm(embeds.view(len(embedding_dict[s_id]),1,embedding_dim),hidden)\n",
    "            lstm_out = lstm_out.view(len(embedding_dict[s_id]),2*hidden_dim)\n",
    "\n",
    "            output_vec = linear_layer(lstm_out)\n",
    "            \"\"\"\n",
    "            # output_vec --> sentence_length * n_classes\n",
    "            \n",
    "            \n",
    "            #if s_count == 10 :\n",
    "                #break \n",
    "            sent_loss[s_count] = loss_function(output_vec,targets)\n",
    "            s_count+=1 \n",
    "            \n",
    "        ## One batch finished \n",
    "        avg_batch_loss = sum(sent_loss)/batch_size\n",
    "        print avg_batch_loss\n",
    "        avg_batch_loss.backward()\n",
    "        optimizer.step()\n",
    "        \n",
    "        if batch_count ==10 :\n",
    "            break "
   ]
  },
  {
   "cell_type": "code",
   "execution_count": 31,
   "metadata": {
    "collapsed": false
   },
   "outputs": [
    {
     "ename": "AttributeError",
     "evalue": "'function' object has no attribute 'data'",
     "output_type": "error",
     "traceback": [
      "\u001b[0;31m---------------------------------------------------------------------------\u001b[0m",
      "\u001b[0;31mAttributeError\u001b[0m                            Traceback (most recent call last)",
      "\u001b[0;32m<ipython-input-31-84470284d1db>\u001b[0m in \u001b[0;36m<module>\u001b[0;34m()\u001b[0m\n\u001b[0;32m----> 1\u001b[0;31m \u001b[0mmodel\u001b[0m\u001b[0;34m.\u001b[0m\u001b[0mparameters\u001b[0m\u001b[0;34m.\u001b[0m\u001b[0mdata\u001b[0m\u001b[0;34m\u001b[0m\u001b[0m\n\u001b[0m",
      "\u001b[0;31mAttributeError\u001b[0m: 'function' object has no attribute 'data'"
     ]
    }
   ],
   "source": [
    "model.parameters.data"
   ]
  },
  {
   "cell_type": "code",
   "execution_count": 137,
   "metadata": {
    "collapsed": false
   },
   "outputs": [
    {
     "data": {
      "text/plain": [
       "Variable containing:\n",
       " 1.5970\n",
       " 1.6201\n",
       " 1.5854\n",
       " 1.6064\n",
       " 1.6107\n",
       " 1.6083\n",
       " 1.6089\n",
       " 1.5606\n",
       " 1.6235\n",
       " 1.5747\n",
       "[torch.FloatTensor of size 10]"
      ]
     },
     "execution_count": 137,
     "metadata": {},
     "output_type": "execute_result"
    }
   ],
   "source": [
    "batch_loss"
   ]
  },
  {
   "cell_type": "code",
   "execution_count": null,
   "metadata": {
    "collapsed": true
   },
   "outputs": [],
   "source": []
  }
 ],
 "metadata": {
  "kernelspec": {
   "display_name": "Python 2",
   "language": "python",
   "name": "python2"
  },
  "language_info": {
   "codemirror_mode": {
    "name": "ipython",
    "version": 2
   },
   "file_extension": ".py",
   "mimetype": "text/x-python",
   "name": "python",
   "nbconvert_exporter": "python",
   "pygments_lexer": "ipython2",
   "version": "2.7.13"
  }
 },
 "nbformat": 4,
 "nbformat_minor": 2
}
