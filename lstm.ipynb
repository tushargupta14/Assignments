{
 "cells": [
  {
   "cell_type": "code",
   "execution_count": 2,
   "metadata": {
    "collapsed": false
   },
   "outputs": [],
   "source": [
    "import torch \n",
    "import torch.autograd as autograd\n",
    "import numpy as np \n",
    "import torch.nn as nn\n",
    "from load_data import *\n",
    "from torch.autograd import Variable\n",
    "import torch.nn.functional as F\n",
    "import torch.optim as optim\n"
   ]
  },
  {
   "cell_type": "code",
   "execution_count": 3,
   "metadata": {
    "collapsed": false
   },
   "outputs": [
    {
     "name": "stdout",
     "output_type": "stream",
     "text": [
      "Loading batch dicts\n"
     ]
    }
   ],
   "source": [
    "## Loading data \n",
    "\n",
    "embedding_dict = load_embedding_dict()\n",
    "sentence_Y_dict = load_sentence_Y_dict()\n",
    "\n",
    "print \"Loading batch dicts\"\n",
    "train_batch_dict_new = load_train_data()\n",
    "validation_batch_dict_new = load_validation_data()\n"
   ]
  },
  {
   "cell_type": "code",
   "execution_count": 4,
   "metadata": {
    "collapsed": true
   },
   "outputs": [],
   "source": [
    "corpus_word_vocab = load_corpus_vocab()"
   ]
  },
  {
   "cell_type": "code",
   "execution_count": 5,
   "metadata": {
    "collapsed": true
   },
   "outputs": [],
   "source": [
    "vocab_size = len(corpus_word_vocab)\n",
    "embedding_dim = 300\n",
    "hidden_dim = 100\n",
    "batch_size = 64 \n",
    "n_classes = 5"
   ]
  },
  {
   "cell_type": "code",
   "execution_count": 6,
   "metadata": {
    "collapsed": false
   },
   "outputs": [],
   "source": [
    "embedding_lookup  = nn.Embedding(vocab_size,embedding_dim,padding_idx = 0)"
   ]
  },
  {
   "cell_type": "code",
   "execution_count": 7,
   "metadata": {
    "collapsed": false
   },
   "outputs": [],
   "source": [
    "bilstm = nn.LSTM(embedding_dim,hidden_dim, bidirectional = True)\n",
    "linear_layer = nn.Linear(2*hidden_dim,n_classes)\n"
   ]
  },
  {
   "cell_type": "code",
   "execution_count": 8,
   "metadata": {
    "collapsed": false
   },
   "outputs": [],
   "source": [
    "class BiLSTM(nn.Module) :\n",
    "    \n",
    "    def __init__(self,embedding_dim,hidden_dim,vocab_size,n_classes) :\n",
    "        \n",
    "        super(BiLSTM,self).__init__()\n",
    "        self.embedding_dim = embedding_dim \n",
    "        self.hidden_dim = hidden_dim \n",
    "        self.vocab_size = vocab_size\n",
    "        self.n_classes = n_classes\n",
    "        \n",
    "        self.embedding_lookup = nn.Embedding(vocab_size,embedding_dim,padding_idx = 0)\n",
    "        self.bilstm = nn.LSTM(embedding_dim,hidden_dim, bidirectional = True)\n",
    "        self.linear_layer = nn.Linear(2*hidden_dim,n_classes)\n",
    "        self.hidden = self.init_hidden(hidden_dim)\n",
    "        \n",
    "        \n",
    "    def forward(self,sentence,embedding_dict,s_id) :\n",
    "        \n",
    "        embeds = self.embedding_lookup(sentence)\n",
    "       \n",
    "        #print \"embedding dimension\",embeds.view(len(embedding_dict[s_id]),1,embedding_dim).size()\n",
    "\n",
    "        lstm_out, self.hidden = self.bilstm(embeds.view(len(embedding_dict[s_id]),1,embedding_dim),self.hidden)\n",
    "        lstm_out = lstm_out.view(len(embedding_dict[s_id]),2*hidden_dim)\n",
    "\n",
    "        output_vec = self.linear_layer(lstm_out)\n",
    "\n",
    "        return output_vec\n",
    "    def init_hidden(self,hidden_dim) :\n",
    "        return (Variable(torch.randn(2,1,hidden_dim)),Variable(torch.randn(2,1,hidden_dim)))\n",
    "        \n",
    "        "
   ]
  },
  {
   "cell_type": "code",
   "execution_count": null,
   "metadata": {
    "collapsed": true
   },
   "outputs": [],
   "source": []
  },
  {
   "cell_type": "code",
   "execution_count": 9,
   "metadata": {
    "collapsed": false
   },
   "outputs": [],
   "source": [
    "def convert_to_onehot(batch_labels) :\n",
    "\n",
    "\n",
    "\t### Label -1 assigned to the pad values and before input and mapped  to [0 0 0 0 0]\n",
    "\toutput_mat = []\n",
    "\tfor sent_labels in batch_labels :\n",
    "\t\ttemp_mat = []\t\n",
    "\t\tfor word_label in sent_labels :\n",
    "\t\t\tif word_label == -1:\n",
    "\n",
    "\t\t\t\ttemp = [0]*5\n",
    "\t\t\t\ttemp_mat.append(temp)\n",
    "\t\t\t\tcontinue\n",
    "\t\t\ttemp = [0]*5\n",
    "\t\t\ttemp[word_label] = 1\n",
    "\t\t\ttemp_mat.append(temp)\n",
    "\n",
    "\t\toutput_mat.append(temp_mat)\n",
    "\n",
    "\treturn np.asarray(output_mat)\n",
    "\n",
    "def pad_zeros(ids,embedding_dict) :\n",
    "\t## return a numpy array of all the sentences in the batch padded with zeros for their embeddings \n",
    "\n",
    "\tmax_len = 0 \n",
    "\tfor sent_id in ids :\n",
    "\t\tembedding = embedding_dict[sent_id]\n",
    "\t\tif len(embedding) > max_len :\n",
    "\t\t\tmax_len = len(embedding)\n",
    "\n",
    "\t#print \"max_len\", max_len\n",
    "\n",
    "\n",
    "\tsent_mat = [embedding_dict[sent_id] for sent_id in ids]\n",
    "\n",
    "\tif len(np.array(sent_mat).shape) == 1 :\n",
    "\t\t\treturn np.array([xi + [0]*(max_len - len(xi)) for xi in sent_mat],dtype='int'),max_len\n",
    "\n",
    "\telse :\n",
    "\n",
    "\t\tpadded_mat = np.zeros((len(ids),max_len),dtype='int')\n",
    "\n",
    "\t\tsent_mat = np.array(sent_mat,dtype= 'int')\n",
    "\t\tfor i in xrange(len(ids)) :\n",
    "\t \t\tpadded_mat[i,:] = np.pad(sent_mat[i,:],(0,max_len - sent_mat[i,:].shape[0]),'constant',constant_values = (0))\n",
    "\n",
    "\n",
    "\t\treturn padded_mat,max_len\n",
    "\n",
    "def test_on_validation_data(model,sentence_Y_dict, validation_batch_dict_new,embedding_dict,use_whole = False) :\n",
    "\n",
    "\tbatch_count = 0 \n",
    "\tvalidation_loss = 0 \n",
    "\tacc  = 0 \n",
    "\tfor batch_n,sent_ids in validation_batch_dict_new.iteritems() :\n",
    "\n",
    "\t\tvList = []\n",
    "\t\tbatch_count +=1 \n",
    "\n",
    "\t\tsents , max_len = pad_zeros(sent_ids,embedding_dict)\n",
    "\n",
    "\t\tlabels = [sentence_Y_dict[item]+[-1]*(max_len - len(sentence_Y_dict[item])) for item in sent_ids] \n",
    "\t\t\t\t\n",
    "\t\tlabels = convert_to_onehot(labels)\n",
    "\n",
    "\t\tvList = model.test_on_batch(sents,labels)\n",
    "\t\tvalidation_loss+= vList[0]\n",
    "\t\tacc+=vList[1]\n",
    "\n",
    "\t\tif batch_count == 30 and use_whole == False :\n",
    "\t\t\tbreak \n",
    "\n",
    "\n",
    "\tprint \"validation_loss :\",validation_loss/batch_count\n",
    "\tacc = acc/batch_count \n",
    "\tprint \"Accuracy :\",acc\n",
    "\treturn [validation_loss/batch_count,acc]\n"
   ]
  },
  {
   "cell_type": "code",
   "execution_count": 10,
   "metadata": {
    "collapsed": true
   },
   "outputs": [
    {
     "name": "stdout",
     "output_type": "stream",
     "text": [
      "Variable containing:\n",
      " 1.6305\n",
      "[torch.FloatTensor of size 1]\n",
      "\n",
      "Variable containing:\n",
      " 1.5661\n",
      "[torch.FloatTensor of size 1]\n",
      "\n",
      "Variable containing:\n",
      " 1.5297\n",
      "[torch.FloatTensor of size 1]\n",
      "\n",
      "Variable containing:\n",
      " 1.4867\n",
      "[torch.FloatTensor of size 1]\n",
      "\n",
      "Variable containing:\n",
      " 1.4570\n",
      "[torch.FloatTensor of size 1]\n",
      "\n",
      "Variable containing:\n",
      " 1.4131\n",
      "[torch.FloatTensor of size 1]\n",
      "\n",
      "Variable containing:\n",
      " 1.3745\n",
      "[torch.FloatTensor of size 1]\n",
      "\n",
      "Variable containing:\n",
      " 1.3553\n",
      "[torch.FloatTensor of size 1]\n",
      "\n",
      "Variable containing:\n",
      " 1.3222\n",
      "[torch.FloatTensor of size 1]\n",
      "\n",
      "Variable containing:\n",
      " 1.3221\n",
      "[torch.FloatTensor of size 1]\n",
      "\n"
     ]
    }
   ],
   "source": [
    "## Preparing data for input \n",
    "epochs = 1\n",
    "loss_function = nn.CrossEntropyLoss()\n",
    "## Going over each sentence at a time \n",
    "\n",
    "batch_size = 64\n",
    "\n",
    "model = BiLSTM(embedding_dim,hidden_dim,vocab_size,n_classes)\n",
    "optimizer = torch.optim.RMSprop(model.parameters(),lr = 0.0001)\n",
    "def intialise_hidden(hidden_dim) :\n",
    "    \n",
    "    return (Variable(torch.randn(2,1,hidden_dim)),Variable(torch.randn(2,1,hidden_dim)))\n",
    "\n",
    "for i in range(epochs) :\n",
    "    batch_count = 0\n",
    "    \n",
    "    for batch,sent_ids in train_batch_dict_new.iteritems() :\n",
    "        batch_count+= 1\n",
    "        s_count = 0 \n",
    "        \n",
    "        sent_loss = Variable(torch.FloatTensor(len(sent_ids))) ## len(sent_ids)\n",
    "        for s_id in sent_ids :\n",
    "            \n",
    "            model.zero_grad()\n",
    "            #hidden = intialise_hidden(hidden_dim)\n",
    "            \n",
    "            model.hidden = model.init_hidden(hidden_dim)\n",
    "            \n",
    "            sentence = Variable(torch.LongTensor(embedding_dict[s_id]))\n",
    "            labels = sentence_Y_dict[s_id]\n",
    "\n",
    "            targets = Variable(torch.LongTensor(labels))\n",
    "            #print \"target_size\", targets.size()\n",
    "            \n",
    "            output_vec = model.forward(sentence,embedding_dict,s_id)\n",
    "            \"\"\"embeds = embedding_lookup(sentence)\n",
    "       \n",
    "            #print \"embedding dimension\",embeds.view(len(embedding_dict[s_id]),1,embedding_dim).size()\n",
    "        \n",
    "            lstm_out, hidden = bilstm(embeds.view(len(embedding_dict[s_id]),1,embedding_dim),hidden)\n",
    "            lstm_out = lstm_out.view(len(embedding_dict[s_id]),2*hidden_dim)\n",
    "\n",
    "            output_vec = linear_layer(lstm_out)\n",
    "            \"\"\"\n",
    "            # output_vec --> sentence_length * n_classes\n",
    "            \n",
    "            \n",
    "            #if s_count == 10 :\n",
    "                #break \n",
    "            sent_loss[s_count] = loss_function(output_vec,targets)\n",
    "            s_count+=1 \n",
    "            \n",
    "        ## One batch finished \n",
    "        avg_batch_loss = sum(sent_loss)/batch_size\n",
    "        print avg_batch_loss\n",
    "        avg_batch_loss.backward()\n",
    "        optimizer.step()\n",
    "        \n",
    "        if batch_count ==10 :\n",
    "            break "
   ]
  },
  {
   "cell_type": "code",
   "execution_count": 11,
   "metadata": {
    "collapsed": false
   },
   "outputs": [
    {
     "data": {
      "text/plain": [
       "<generator object parameters at 0x7f746cf38640>"
      ]
     },
     "execution_count": 11,
     "metadata": {},
     "output_type": "execute_result"
    }
   ],
   "source": [
    "model.parameters()"
   ]
  },
  {
   "cell_type": "code",
   "execution_count": 12,
   "metadata": {
    "collapsed": false
   },
   "outputs": [
    {
     "ename": "NameError",
     "evalue": "name 'batch_loss' is not defined",
     "output_type": "error",
     "traceback": [
      "\u001b[0;31m---------------------------------------------------------------------------\u001b[0m",
      "\u001b[0;31mNameError\u001b[0m                                 Traceback (most recent call last)",
      "\u001b[0;32m<ipython-input-12-5a4abff9351d>\u001b[0m in \u001b[0;36m<module>\u001b[0;34m()\u001b[0m\n\u001b[0;32m----> 1\u001b[0;31m \u001b[0mbatch_loss\u001b[0m\u001b[0;34m\u001b[0m\u001b[0m\n\u001b[0m",
      "\u001b[0;31mNameError\u001b[0m: name 'batch_loss' is not defined"
     ]
    }
   ],
   "source": [
    "batch_loss"
   ]
  },
  {
   "cell_type": "code",
   "execution_count": 15,
   "metadata": {
    "collapsed": true
   },
   "outputs": [],
   "source": [
    "# **Writing the CRF Model along with a BiLSTM**"
   ]
  },
  {
   "cell_type": "code",
   "execution_count": 18,
   "metadata": {
    "collapsed": false
   },
   "outputs": [],
   "source": [
    "## Defining the model here \n",
    "vocab_size = len(corpus_word_vocab)\n",
    "embedding_dim = 300\n",
    "hidden_dim = 100\n",
    "batch_size = 64 \n",
    "n_classes = 7 \n",
    "\n",
    "class BiLSTM_CRF(nn.Module):\n",
    "\n",
    "    def __init__(self, vocab_size, tag_to_ix, embedding_dim, hidden_dim):\n",
    "        super(BiLSTM_CRF, self).__init__()\n",
    "        self.embedding_dim = embedding_dim\n",
    "        self.hidden_dim = hidden_dim\n",
    "        self.vocab_size = vocab_size\n",
    "        self.tag_to_ix = tag_to_ix\n",
    "        self.tagset_size = len(tag_to_ix)\n",
    "\n",
    "        self.word_embeds = nn.Embedding(vocab_size, embedding_dim)\n",
    "        self.lstm = nn.LSTM(embedding_dim, hidden_dim // 2,\n",
    "                            num_layers=1, bidirectional=True)\n",
    "\n",
    "        # Maps the output of the LSTM into tag space.\n",
    "        self.hidden2tag = nn.Linear(hidden_dim, self.tagset_size)\n",
    "\n",
    "        # Matrix of transition parameters.  Entry i,j is the score of\n",
    "        # transitioning *to* i *from* j.\n",
    "        self.transitions = nn.Parameter(\n",
    "            torch.randn(self.tagset_size, self.tagset_size))\n",
    "\n",
    "        self.hidden = self.init_hidden()\n",
    "\n",
    "    def init_hidden(self):\n",
    "        return (autograd.Variable(torch.randn(2, 1, self.hidden_dim)),\n",
    "                autograd.Variable(torch.randn(2, 1, self.hidden_dim)))\n",
    "\n",
    "    def _forward_alg(self, feats):\n",
    "        # Do the forward algorithm to compute the partition function\n",
    "        init_alphas = torch.Tensor(1, self.tagset_size).fill_(-10000.)\n",
    "        # START_TAG has all of the score.\n",
    "        init_alphas[0][self.tag_to_ix[START_TAG]] = 0.\n",
    "\n",
    "        # Wrap in a variable so that we will get automatic backprop\n",
    "        forward_var = autograd.Variable(init_alphas)\n",
    "\n",
    "        # Iterate through the sentence\n",
    "        for feat in feats:\n",
    "            alphas_t = []  # The forward variables at this timestep\n",
    "            for next_tag in range(self.tagset_size):\n",
    "                # broadcast the emission score: it is the same regardless of\n",
    "                # the previous tag\n",
    "                emit_score = feat[next_tag].view(\n",
    "                    1, -1).expand(1, self.tagset_size)\n",
    "                # the ith entry of trans_score is the score of transitioning to\n",
    "                # next_tag from i\n",
    "                trans_score = self.transitions[next_tag].view(1, -1)\n",
    "                # The ith entry of next_tag_var is the value for the\n",
    "                # edge (i -> next_tag) before we do log-sum-exp\n",
    "                next_tag_var = forward_var + trans_score + emit_score\n",
    "                # The forward variable for this tag is log-sum-exp of all the\n",
    "                # scores.\n",
    "                alphas_t.append(log_sum_exp(next_tag_var))\n",
    "            forward_var = torch.cat(alphas_t).view(1, -1)\n",
    "        terminal_var = forward_var + self.transitions[self.tag_to_ix[STOP_TAG]]\n",
    "        alpha = log_sum_exp(terminal_var)\n",
    "        return alpha\n",
    "\n",
    "    def _get_lstm_features(self, sentence):\n",
    "        self.hidden = self.init_hidden()\n",
    "        embeds = self.word_embeds(sentence).view(len(sentence), 1, -1)\n",
    "        lstm_out, self.hidden = self.lstm(embeds)\n",
    "        lstm_out = lstm_out.view(len(sentence), self.hidden_dim)\n",
    "        lstm_feats = self.hidden2tag(lstm_out)\n",
    "        return lstm_feats\n",
    "\n",
    "    def _score_sentence(self, feats, tags):\n",
    "        # Gives the score of a provided tag sequence\n",
    "        score = autograd.Variable(torch.Tensor([0]))\n",
    "        tags = torch.cat([torch.LongTensor([self.tag_to_ix[START_TAG]]), tags])\n",
    "        for i, feat in enumerate(feats):\n",
    "            score = score + \\\n",
    "                self.transitions[tags[i + 1], tags[i]] + feat[tags[i + 1]]\n",
    "        score = score + self.transitions[self.tag_to_ix[STOP_TAG], tags[-1]]\n",
    "        return score\n",
    "\n",
    "    def _viterbi_decode(self, feats):\n",
    "        backpointers = []\n",
    "\n",
    "        # Initialize the viterbi variables in log space\n",
    "        init_vvars = torch.Tensor(1, self.tagset_size).fill_(-10000.)\n",
    "        init_vvars[0][self.tag_to_ix[START_TAG]] = 0\n",
    "\n",
    "        # forward_var at step i holds the viterbi variables for step i-1\n",
    "        forward_var = autograd.Variable(init_vvars)\n",
    "        for feat in feats:\n",
    "            bptrs_t = []  # holds the backpointers for this step\n",
    "            viterbivars_t = []  # holds the viterbi variables for this step\n",
    "\n",
    "            for next_tag in range(self.tagset_size):\n",
    "                # next_tag_var[i] holds the viterbi variable for tag i at the\n",
    "                # previous step, plus the score of transitioning\n",
    "                # from tag i to next_tag.\n",
    "                # We don't include the emission scores here because the max\n",
    "                # does not depend on them (we add them in below)\n",
    "                next_tag_var = forward_var + self.transitions[next_tag]\n",
    "                best_tag_id = argmax(next_tag_var)\n",
    "                bptrs_t.append(best_tag_id)\n",
    "                viterbivars_t.append(next_tag_var[0][best_tag_id])\n",
    "            # Now add in the emission scores, and assign forward_var to the set\n",
    "            # of viterbi variables we just computed\n",
    "            forward_var = (torch.cat(viterbivars_t) + feat).view(1, -1)\n",
    "            backpointers.append(bptrs_t)\n",
    "\n",
    "        # Transition to STOP_TAG\n",
    "        terminal_var = forward_var + self.transitions[self.tag_to_ix[STOP_TAG]]\n",
    "        best_tag_id = argmax(terminal_var)\n",
    "        path_score = terminal_var[0][best_tag_id]\n",
    "\n",
    "        # Follow the back pointers to decode the best path.\n",
    "        best_path = [best_tag_id]\n",
    "        for bptrs_t in reversed(backpointers):\n",
    "            best_tag_id = bptrs_t[best_tag_id]\n",
    "            best_path.append(best_tag_id)\n",
    "        # Pop off the start tag (we dont want to return that to the caller)\n",
    "        start = best_path.pop()\n",
    "        assert start == self.tag_to_ix[START_TAG]  # Sanity check\n",
    "        best_path.reverse()\n",
    "        return path_score, best_path\n",
    "\n",
    "    def neg_log_likelihood(self, sentence, tags):\n",
    "        feats = self._get_lstm_features(sentence)\n",
    "        forward_score = self._forward_alg(feats)\n",
    "        gold_score = self._score_sentence(feats, tags)\n",
    "        return forward_score - gold_score\n",
    "\n",
    "    def forward(self, sentence):  # dont confuse this with _forward_alg above.\n",
    "        # Get the emission scores from the BiLSTM\n",
    "        lstm_feats = self._get_lstm_features(sentence)\n",
    "\n",
    "        # Find the best path, given the features.\n",
    "        score, tag_seq = self._viterbi_decode(lstm_feats)\n",
    "        return score, tag_seq\n",
    "    \n",
    "    "
   ]
  },
  {
   "cell_type": "code",
   "execution_count": 19,
   "metadata": {
    "collapsed": true
   },
   "outputs": [],
   "source": []
  },
  {
   "cell_type": "code",
   "execution_count": null,
   "metadata": {
    "collapsed": true
   },
   "outputs": [],
   "source": [
    "START_TAG = \"<START>\"\n",
    "STOP_TAG = \"<STOP>\"\n",
    "EMBEDDING_DIM = 300\n",
    "HIDDEN_DIM = 100\n",
    "\n",
    "## get training data here\n",
    "n_classes = 7\n",
    "tag_to_idx  = {\"B-skill\": 0, \"I-exp\": 1, \"O\": 2, \"I-skill\": 3, \"B-exp\": 4,START_TAG : 5,STOP_TAG :6}\n",
    "\n",
    "model = BiLSTMCRF(embedding_dim,hidden_dim,vocab_size,n_classes)\n",
    "\n",
    "for i in xrange(epochs) :\n",
    "    \n",
    "    for batch,sent_ids in train_batch_dict_new :\n",
    "        \n",
    "        for s_id in sent_ids :\n",
    "            \n",
    "            sentence = Variable(torch.LongTensor(embedding_dict[s_id]))\n",
    "            labels = sentence_Y_dict[s_id]\n",
    "            \n",
    "            score,tag_sequence = model.forward(sentence,s_id,embedding_dict)\n",
    "            \n",
    "            \n",
    "            ## Score of the best sequence\n",
    "            \n",
    "           \n",
    "            "
   ]
  }
 ],
 "metadata": {
  "kernelspec": {
   "display_name": "Python 2",
   "language": "python",
   "name": "python2"
  },
  "language_info": {
   "codemirror_mode": {
    "name": "ipython",
    "version": 2
   },
   "file_extension": ".py",
   "mimetype": "text/x-python",
   "name": "python",
   "nbconvert_exporter": "python",
   "pygments_lexer": "ipython2",
   "version": "2.7.13"
  }
 },
 "nbformat": 4,
 "nbformat_minor": 2
}
